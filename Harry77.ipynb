{
  "cells": [
    {
      "cell_type": "markdown",
      "metadata": {},
      "source": [
        "MODED BY HARRY77"
      ]
    },
    {
      "cell_type": "code",
      "metadata": {},
      "source": [
        "#@title Cek GPU\n",
        "%tensorflow_version 2.x\n",
        "from tensorflow.python.client import device_lib\n",
        "import json\n",
        "\n",
        "def name_device():\n",
        "    depais = device_lib.list_local_devices()\n",
        "    desc_dumps = json.dumps(depais[1].physical_device_desc, sort_keys=True, indent=4)\n",
        "    desc_loads = json.loads(desc_dumps)\n",
        "    split_desc = desc_loads.split(', ')\n",
        "    split_tesla = split_desc[1].split(' ')\n",
        "    name_device = split_tesla[2]\n",
        "    return name_device\n",
        " \n",
        "gpu_name = \"{0}\".format(name_device())\n",
        "! echo Device Name: {gpu_name}"
      ],
      "outputs": [],
      "execution_count": null
    },
    {
      "cell_type": "code",
      "metadata": {},
      "source": [
        "#@title SSH\n",
        "from numba import jit, cuda\n",
        "import numpy as np\n",
        "from timeit import default_timer as timer\n",
        "def func(a):\n",
        "\tfor i in range(10000000):\n",
        "\t\ta[i]+= 1\n",
        "def func2(a):\n",
        "\tfor i in range(10000000):\n",
        "\t\ta[i]+= 1\n",
        "if __name__==\"__main__\":\n",
        "\tn = 10000000\n",
        "\ta = np.ones(n, dtype = np.float64)\n",
        "\tb = np.ones(n, dtype = np.float32)\n",
        "\tstart = timer()\n",
        "\tfunc(a)\n",
        "\tprint(timer()-start)\n",
        "\tstart = timer()\n",
        "\tfunc2(a)\n",
        "\tprint(timer()-start)\n",
        "import os\n",
        "username = \"asu\" #@param {type:\"string\"}\n",
        "password = \"asu\" #@param {type:\"string\"}\n",
        "os.system(f\"useradd -m {username}\")\n",
        "os.system(f\"adduser {username} sudo\")\n",
        "os.system(f\"echo '{username}:{password}' | sudo chpasswd\")\n",
        "os.system(\"sed -i 's/\\/bin\\/sh/\\/bin\\/bash/g' /etc/passwd\")\n",
        "! pip install colab_ssh --upgrade &> /dev/null\n",
        "ngrokToken = \"\" #@param {type:'string'}\n",
        "from colab_ssh import launch_ssh\n",
        "from IPython.display import clear_output\n",
        "launch_ssh(ngrokToken, password)\n",
        "clear_output()\n",
        "print(\"ssh\", username, end='@')\n",
        "! curl -s http://localhost:4040/api/tunnels | python3 -c \\\n",
        "        \"import sys, json; print(json.load(sys.stdin)['tunnels'][0]['public_url'][6:].replace(':', ' -p '))\"\n",
        "while True:pass"
      ],
      "outputs": [],
      "execution_count": null
    }
  ],
  "metadata": {
    "anaconda-cloud": {},
    "kernelspec": {
      "display_name": "Python 3",
      "language": "python",
      "name": "python3"
    },
    "language_info": {
      "codemirror_mode": {
        "name": "ipython",
        "version": 3
      },
      "file_extension": ".py",
      "mimetype": "text/x-python",
      "name": "python",
      "nbconvert_exporter": "python",
      "pygments_lexer": "ipython3",
      "version": "3.6.1"
    }
  },
  "nbformat": 4,
  "nbformat_minor": 4
}
