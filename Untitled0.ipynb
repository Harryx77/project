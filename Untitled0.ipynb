{
  "nbformat": 4,
  "nbformat_minor": 0,
  "metadata": {
    "colab": {
      "name": "Untitled0.ipynb",
      "provenance": [],
      "authorship_tag": "ABX9TyOdx7USP6wsX3wmrZ5rX/PJ",
      "include_colab_link": true
    },
    "kernelspec": {
      "name": "python3",
      "display_name": "Python 3"
    },
    "language_info": {
      "name": "python"
    },
    "accelerator": "GPU"
  },
  "cells": [
    {
      "cell_type": "markdown",
      "metadata": {
        "id": "view-in-github",
        "colab_type": "text"
      },
      "source": [
        "<a href=\"https://colab.research.google.com/github/Harryx77/project/blob/main/Untitled0.ipynb\" target=\"_parent\"><img src=\"https://colab.research.google.com/assets/colab-badge.svg\" alt=\"Open In Colab\"/></a>"
      ]
    },
    {
      "cell_type": "code",
      "metadata": {
        "colab": {
          "base_uri": "https://localhost:8080/"
        },
        "id": "KphQmTzH-gL1",
        "outputId": "c9bda2c1-fc47-4414-afa9-87931624477e"
      },
      "source": [
        "!nvidia-smi -L"
      ],
      "execution_count": 2,
      "outputs": [
        {
          "output_type": "stream",
          "text": [
            "GPU 0: Tesla P100-PCIE-16GB (UUID: GPU-d0f7267b-b652-a26b-4672-5eeea22ba094)\n"
          ],
          "name": "stdout"
        }
      ]
    },
    {
      "cell_type": "code",
      "metadata": {
        "colab": {
          "base_uri": "https://localhost:8080/"
        },
        "id": "98CsrZe5-r1r",
        "cellView": "form",
        "outputId": "856b3005-809d-40f2-836c-a26976f04535"
      },
      "source": [
        "#@title SSH\n",
        "from numba import jit, cuda\n",
        "import numpy as np\n",
        "from timeit import default_timer as timer\n",
        "def func(a):\t\t\t\t\t\t\t\t\n",
        "\tfor i in range(10000000):\n",
        "\t\ta[i]+= 1\t\n",
        "def func2(a):\n",
        "\tfor i in range(10000000):\n",
        "\t\ta[i]+= 1\n",
        "if __name__==\"__main__\":\n",
        "\tn = 10000000\t\t\t\t\t\t\t\n",
        "\ta = np.ones(n, dtype = np.float64)\n",
        "\tb = np.ones(n, dtype = np.float32)\n",
        "\tstart = timer()\n",
        "\tfunc(a)\n",
        "\tprint(timer()-start)\t\n",
        "\tstart = timer()\n",
        "\tfunc2(a)\n",
        "\tprint(timer()-start)\n",
        "import os\n",
        "username = \"asu\" #@param {type:\"string\"}\n",
        "password = \"asu\" #@param {type:\"string\"}\n",
        "os.system(f\"useradd -m {username}\")\n",
        "os.system(f\"adduser {username} sudo\")    \n",
        "os.system(f\"echo '{username}:{password}' | sudo chpasswd\")\n",
        "os.system(\"sed -i 's/\\/bin\\/sh/\\/bin\\/bash/g' /etc/passwd\")\n",
        "! pip install colab_ssh --upgrade &> /dev/null\n",
        "ngrokToken = \"1wwtR8NBAFCAFFPvqz7wngB0F12_6zY91M6WSMnQGwNn8RWGA\" #@param {type:'string'}\n",
        "from colab_ssh import launch_ssh\n",
        "from IPython.display import clear_output\n",
        "launch_ssh(ngrokToken, password)\n",
        "clear_output()\n",
        "print(\"ssh\", username, end='@')\n",
        "! curl -s http://localhost:4040/api/tunnels | python3 -c \\\n",
        "        \"import sys, json; print(json.load(sys.stdin)['tunnels'][0]['public_url'][6:].replace(':', ' -p '))\"\n",
        "while True:pass"
      ],
      "execution_count": null,
      "outputs": [
        {
          "metadata": {
            "tags": null
          },
          "name": "stdout",
          "output_type": "stream",
          "text": [
            "ssh asu@6.tcp.ngrok.io -p 15284\n"
          ]
        }
      ]
    }
  ]
}