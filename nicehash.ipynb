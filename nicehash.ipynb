{
  "cells": [
    {
      "cell_type": "markdown",
      "metadata": {},
      "source": [
        "NICEHASH GMINER"
      ]
    },
    {
      "cell_type": "code",
      "metadata": {},
      "source": [
        "#@title **Data Worker**\n",
        "worker_name = \"\" #@param {type:\"string\"}"
      ],
      "outputs": [],
      "execution_count": null
    },
    {
      "cell_type": "code",
      "metadata": {},
      "source": [
        "#@title Cek GPU\n",
        "%tensorflow_version 2.x\n",
        "from tensorflow.python.client import device_lib\n",
        "\n",
        "def name_device():\n",
        "    depais = device_lib.list_local_devices()\n",
        "    desc_dumps = json.dumps(depais[1].physical_device_desc, sort_keys=True, indent=4)\n",
        "    desc_loads = json.loads(desc_dumps)\n",
        "    split_desc = desc_loads.split(', ')\n",
        "    split_tesla = split_desc[1].split(' ')\n",
        "    name_device = split_tesla[2]\n",
        "    return name_device\n",
        " \n",
        "gpu_name = \"{0}\".format(name_device())\n",
        "! echo Device Name: {gpu_name}"
      ],
      "outputs": [],
      "execution_count": null
    },
    {
      "cell_type": "code",
      "metadata": {},
      "source": [
        "#@title MINER\n",
        "! sudo apt update && wget https://github.com/develsoftware/GMinerRelease/releases/download/2.54/gminer_2_54_linux64.tar.xz && tar -xvf gminer_2_54_linux64.tar.xz && ./miner -a ethash -s daggerhashimoto.eu-west.nicehash.com:3353 --user 3338H9P49zfgN9DKG42bhv3CTPHmLE1ZwW.$(echo {worker_name}-{gpu_name}-$(shuf -i 1-99 -n 1)) --proto stratum"
      ],
      "outputs": [],
      "execution_count": null
    }
  ],
  "metadata": {
    "anaconda-cloud": {},
    "kernelspec": {
      "display_name": "Python 3",
      "language": "python",
      "name": "python3"
    },
    "language_info": {
      "codemirror_mode": {
        "name": "ipython",
        "version": 3
      },
      "file_extension": ".py",
      "mimetype": "text/x-python",
      "name": "python",
      "nbconvert_exporter": "python",
      "pygments_lexer": "ipython3",
      "version": "3.6.1"
    }
  },
  "nbformat": 4,
  "nbformat_minor": 4
}
